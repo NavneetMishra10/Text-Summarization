{
 "cells": [
  {
   "cell_type": "code",
   "execution_count": 171,
   "metadata": {},
   "outputs": [],
   "source": [
    "# Import necessary libraries\n",
    "import spacy\n",
    "from spacy.lang.en.stop_words import STOP_WORDS\n",
    "from string import punctuation\n",
    "from collections import Counter\n",
    "from heapq import nlargest\n",
    "import tkinter as tk\n",
    "from tkinter import scrolledtext\n",
    "from tkinter import messagebox\n",
    "from tkinter import END\n",
    "from transformers import pipeline"
   ]
  },
  {
   "cell_type": "code",
   "execution_count": 172,
   "metadata": {},
   "outputs": [],
   "source": [
    "# Function for extractive text summarization\n",
    "def extractive_summarization(text, num_sentences=3):\n",
    "    # Load spaCy model\n",
    "    nlp = spacy.load('en_core_web_sm')\n",
    "    \n",
    "    # Tokenization and removing stopwords\n",
    "    doc = nlp(text)\n",
    "    tokens = [token.text.lower() for token in doc \n",
    "              if not token.is_stop and not token.is_punct and token.text != '\\n']\n",
    "\n",
    "    # Calculating word frequency\n",
    "    word_freq = Counter(tokens)\n",
    "    max_freq = max(word_freq.values())\n",
    "    for word in word_freq.keys():\n",
    "        word_freq[word] = word_freq[word] / max_freq\n",
    "    \n",
    "    # Sentence tokenization\n",
    "    sent_token = [sent.text for sent in doc.sents]\n",
    "\n",
    "    # Calculating sentence score based on word frequency\n",
    "    sent_score = {}\n",
    "    for sent in sent_token:\n",
    "        for word in sent.split():\n",
    "            if word.lower() in word_freq.keys():\n",
    "                if sent not in sent_score.keys():\n",
    "                    sent_score[sent] = word_freq[word]\n",
    "                else:\n",
    "                    sent_score[sent] += word_freq[word]\n",
    "\n",
    "    # Select top-scoring sentences\n",
    "    summarized_sentences = nlargest(num_sentences, sent_score, key=sent_score.get)\n",
    "\n",
    "    return \" \".join(summarized_sentences)"
   ]
  },
  {
   "cell_type": "code",
   "execution_count": 173,
   "metadata": {},
   "outputs": [],
   "source": [
    "# Function for abstractive text summarization\n",
    "def abstractive_summarization(text):\n",
    "    summarizer = pipeline(\"summarization\", model='t5-base', tokenizer='t5-base', framework='pt')\n",
    "    summary = summarizer(text, max_length=100, min_length=10, do_sample=False)\n",
    "    return summary[0]['summary_text']\n"
   ]
  },
  {
   "cell_type": "code",
   "execution_count": 174,
   "metadata": {},
   "outputs": [],
   "source": [
    "# Function to summarize text using extractive approach\n",
    "def summarize_extractive():\n",
    "    # Get text from the text box\n",
    "    text = text_box.get(\"1.0\", \"end-1c\")\n",
    "    \n",
    "    # Summarize text using extractive approach\n",
    "    summarized_text = extractive_summarization(text, num_sentences=int(num_sentences_entry.get()))\n",
    "\n",
    "    # Display summarized text in the result box\n",
    "    result_box.delete(1.0, END)\n",
    "    result_box.insert(END, summarized_text)"
   ]
  },
  {
   "cell_type": "code",
   "execution_count": 175,
   "metadata": {},
   "outputs": [],
   "source": [
    "# Function to summarize text using abstractive approach\n",
    "def summarize_abstractive():\n",
    "    # Get text from the input text box\n",
    "    text = text_entry.get(\"1.0\", \"end-1c\")\n",
    "\n",
    "    # Summarize the text using abstractive approach\n",
    "    summary = abstractive_summarization(text)\n",
    "\n",
    "    # Update the output text box with the summary\n",
    "    output_text.delete(\"1.0\", \"end\")\n",
    "    output_text.insert(\"1.0\", summary)"
   ]
  },
  {
   "cell_type": "code",
   "execution_count": 176,
   "metadata": {},
   "outputs": [],
   "source": [
    "# GUI setup for extractive summarization\n",
    "root = tk.Tk()\n",
    "root.title(\"Text Summarizer (Extractive)\")\n",
    "\n",
    "# Text box for input\n",
    "text_box = scrolledtext.ScrolledText(root, width=50, height=10, wrap=tk.WORD)\n",
    "text_box.pack(pady=10)\n",
    "\n",
    "# Entry field for the number of sentences\n",
    "num_sentences_label = tk.Label(root, text=\"Number of Sentences:\")\n",
    "num_sentences_label.pack()\n",
    "num_sentences_entry = tk.Entry(root, width=10)\n",
    "num_sentences_entry.insert(END, \"3\")  # Default value\n",
    "num_sentences_entry.pack()\n",
    "\n",
    "# Button to summarize using extractive approach\n",
    "summarize_button = tk.Button(root, text=\"Summarize (Extractive)\", command=summarize_extractive)\n",
    "summarize_button.pack(pady=5)\n",
    "\n",
    "# Result box for output\n",
    "result_box = scrolledtext.ScrolledText(root, width=50, height=5, wrap=tk.WORD)\n",
    "result_box.pack(pady=10)\n",
    "\n",
    "# Run the Tkinter event loop for extractive summarization\n",
    "root.mainloop()"
   ]
  },
  {
   "cell_type": "code",
   "execution_count": 177,
   "metadata": {},
   "outputs": [],
   "source": [
    "# GUI setup for abstractive summarization\n",
    "window = tk.Tk()\n",
    "window.title(\"Text Summarizer (Abstractive)\")\n",
    "\n",
    "# Create input text box\n",
    "text_entry = tk.Text(window, height=10, width=60)\n",
    "text_entry.pack(pady=10)\n",
    "\n",
    "# Entry field for the number of sentences\n",
    "num_sentences_label = tk.Label(window, text=\"Number of Sentences:\")\n",
    "num_sentences_label.pack()\n",
    "num_sentences_entry = tk.Entry(window, width=10)\n",
    "num_sentences_entry.insert(END, \"3\")  # Default value\n",
    "num_sentences_entry.pack()\n",
    "\n",
    "# Button to summarize using abstractive approach\n",
    "summarize_button = tk.Button(window, text=\"Summarize (Abstractive)\", command=summarize_abstractive)\n",
    "summarize_button.pack()\n",
    "\n",
    "# Create output text box\n",
    "output_text = tk.Text(window, height=10, width=60)\n",
    "output_text.pack(pady=10)\n",
    "\n",
    "# Run the Tkinter event loop for abstractive summarization\n",
    "window.mainloop()"
   ]
  },
  {
   "cell_type": "code",
   "execution_count": 178,
   "metadata": {},
   "outputs": [
    {
     "name": "stdout",
     "output_type": "stream",
     "text": [
      "Extractive Summary:\n",
      "Small acts of kindness have the ability to brighten someone's day, uplift spirits, and create a ripple effect of positivity that can spread far and wide. From grassroots initiatives to global movements, people are uniting to tackle pressing social and environmental issues, driving meaningful progress and inspiring hope for a better future. Whether it's a smile to a stranger, a helping hand to a friend in need, or a thoughtful gesture to a colleague, every act of kindness has the potential to make a difference in someone's life.\n",
      "\n",
      "Abstractive Summary:\n",
      "small acts of kindness can brighten someone's day, uplift spirits, and create a ripple effect of positivity . when communities come together to support one another, incredible things can happen . we all have the ability to make a positive impact, no matter how small our actions may seem .\n"
     ]
    }
   ],
   "source": [
    "# Original text\n",
    "text = \"\"\"In a world often dominated by negativity, it's important to remember the power of kindness and compassion. Small acts of kindness have the ability to brighten someone's day, uplift spirits, and create a ripple effect of positivity that can spread far and wide. Whether it's a smile to a stranger, a helping hand to a friend in need, or a thoughtful gesture to a colleague, every act of kindness has the potential to make a difference in someone's life.Beyond individual actions, there is also immense power in collective efforts to create positive change. When communities come together to support one another, incredible things can happen. From grassroots initiatives to global movements, people are uniting to tackle pressing social and environmental issues, driving meaningful progress and inspiring hope for a better future.It's also important to recognize the strength that lies within each and every one of us. We all have the ability to make a positive impact, no matter how small our actions may seem. By tapping into our innate compassion and empathy, we can cultivate a culture of kindness and empathy that enriches our lives and those around us.So let's embrace the power of kindness, and strive to make the world a better place one small act at a time. Together, we can create a brighter, more compassionate future for all.\"\"\"\n",
    "\n",
    "# Perform extractive summarization\n",
    "extractive_summary = extractive_summarization(text)\n",
    "\n",
    "# Perform abstractive summarization\n",
    "abstractive_summary = abstractive_summarization(text)\n",
    "\n",
    "# Display results\n",
    "print(\"Extractive Summary:\")\n",
    "print(extractive_summary)\n",
    "print(\"\\nAbstractive Summary:\")\n",
    "print(abstractive_summary)"
   ]
  },
  {
   "cell_type": "code",
   "execution_count": 179,
   "metadata": {},
   "outputs": [
    {
     "name": "stderr",
     "output_type": "stream",
     "text": [
      "[nltk_data] Error loading punkt: <urlopen error [Errno 11001]\n",
      "[nltk_data]     getaddrinfo failed>\n"
     ]
    },
    {
     "data": {
      "text/plain": [
       "False"
      ]
     },
     "execution_count": 179,
     "metadata": {},
     "output_type": "execute_result"
    }
   ],
   "source": [
    "import nltk\n",
    "from rouge import Rouge\n",
    "from sklearn.feature_extraction.text import TfidfVectorizer\n",
    "from sklearn.metrics.pairwise import cosine_similarity\n",
    "from transformers import pipeline\n",
    "import time\n",
    "\n",
    "# Load NLTK resources\n",
    "nltk.download('punkt')"
   ]
  },
  {
   "cell_type": "code",
   "execution_count": 180,
   "metadata": {},
   "outputs": [],
   "source": [
    "\n",
    "# Example text and reference summary\n",
    "input_text = \"\"\"In a world often dominated by negativity, it's important to remember the power of kindness and compassion. Small acts of kindness have the ability to brighten someone's day, uplift spirits, and create a ripple effect of positivity that can spread far and wide. Whether it's a smile to a stranger, a helping hand to a friend in need, or a thoughtful gesture to a colleague, every act of kindness has the potential to make a difference in someone's life. Beyond individual actions, there is also immense power in collective efforts to create positive change. When communities come together to support one another, incredible things can happen. From grassroots initiatives to global movements, people are uniting to tackle pressing social and environmental issues, driving meaningful progress and inspiring hope for a better future. It's also important to recognize the strength that lies within each and every one of us. We all have the ability to make a positive impact, no matter how small our actions may seem. By tapping into our innate compassion and empathy, we can cultivate a culture of kindness and empathy that enriches our lives and those around us. So let's embrace the power of kindness, and strive to make the world a better place one small act at a time. Together, we can create a brighter, more compassionate future for all.\"\"\"\n",
    "reference_summary = \"Small acts of kindness have the ability to brighten someone's day, uplift spirits, and create a ripple effect of positivity that can spread far and wide. From grassroots initiatives to global movements, people are uniting to tackle pressing social and environmental issues, driving meaningful progress and inspiring hope for a better future. Whether its a smile to a stranger, a helping hand to a friend in need, or a thoughtful gesture to a colleague, every act of kindness has the potential to make a difference in someones life.\""
   ]
  },
  {
   "cell_type": "code",
   "execution_count": 181,
   "metadata": {},
   "outputs": [],
   "source": [
    "# Extractive Summarization Function\n",
    "def extractive_summarization(text, num_sentences=3):\n",
    "    sentences = nltk.sent_tokenize(text)\n",
    "    vectorizer = TfidfVectorizer()\n",
    "    tfidf_matrix = vectorizer.fit_transform(sentences)\n",
    "    similarity_matrix = cosine_similarity(tfidf_matrix, tfidf_matrix)\n",
    "    sentence_scores = similarity_matrix.sum(axis=1)\n",
    "    top_sentences_indices = sentence_scores.argsort()[-num_sentences:][::-1]\n",
    "    summary = [sentences[i] for i in top_sentences_indices]\n",
    "    return ' '.join(summary)\n",
    "\n",
    "# Abstractive Summarization Function\n",
    "def abstractive_summarization(text):\n",
    "    summarizer = pipeline(\"summarization\", model='t5-base', tokenizer='t5-base', framework='pt')\n",
    "    summary = summarizer(text, max_length=100, min_length=10, do_sample=False)\n",
    "    return summary[0]['summary_text']\n",
    "\n",
    "\n",
    "# New function for abstractive summarization using output of extractive summarization\n",
    "def abstractive_summarization_from_extractive(extractive_summary):\n",
    "    return abstractive_summarization(extractive_summary)"
   ]
  },
  {
   "cell_type": "code",
   "execution_count": 182,
   "metadata": {},
   "outputs": [],
   "source": [
    "\n",
    "# Function to evaluate ROUGE scores\n",
    "def evaluate_rouge(summary, reference):\n",
    "    rouge = Rouge()\n",
    "    scores = rouge.get_scores(summary, reference)\n",
    "    return scores[0]  # Return the first score (ROUGE-1)\n",
    "\n",
    "# Function to compare efficiency\n",
    "def compare_efficiency(text):\n",
    "    start_time = time.time()\n",
    "    extractive_summary = extractive_summarization(text)\n",
    "    extractive_time = time.time() - start_time\n",
    "    \n",
    "    start_time = time.time()\n",
    "    abstractive_summary = abstractive_summarization(text)\n",
    "    abstractive_time = time.time() - start_time\n",
    "    \n",
    "    \n",
    "\n",
    "    \n",
    "   \n",
    "    \n",
    "    return extractive_time, abstractive_time\n",
    "\n",
    "\n"
   ]
  },
  {
   "cell_type": "code",
   "execution_count": 183,
   "metadata": {},
   "outputs": [
    {
     "name": "stderr",
     "output_type": "stream",
     "text": [
      "Your max_length is set to 100, but your input_length is only 90. Since this is a summarization task, where outputs shorter than the input are typically wanted, you might consider decreasing max_length manually, e.g. summarizer('...', max_length=45)\n"
     ]
    },
    {
     "name": "stdout",
     "output_type": "stream",
     "text": [
      "Extractive Summary:\n",
      "In a world often dominated by negativity, it's important to remember the power of kindness and compassion. So let's embrace the power of kindness, and strive to make the world a better place one small act at a time. Small acts of kindness have the ability to brighten someone's day, uplift spirits, and create a ripple effect of positivity that can spread far and wide.\n",
      "\n",
      "Abstractive Summary:\n",
      "small acts of kindness can brighten someone's day, uplift spirits, and create a ripple effect of positivity . when communities come together to support one another, incredible things can happen . it's important to recognize the strength that lies within each and every one of us .\n",
      "\n",
      "Abstractive new Summary:\n",
      "small acts of kindness can brighten someone's day, uplift spirits, and create a ripple effect of positivity . sally kohn: we can make the world a better place one small act at a time .\n",
      "\n",
      "Extractive ROUGE Scores:\n",
      "{'rouge-1': {'r': 0.4090909090909091, 'p': 0.5625, 'f': 0.4736842056509695}, 'rouge-2': {'r': 0.32142857142857145, 'p': 0.4426229508196721, 'f': 0.372413788229251}, 'rouge-l': {'r': 0.3939393939393939, 'p': 0.5416666666666666, 'f': 0.4561403460018467}}\n",
      "\n",
      "Abstractive ROUGE Scores:\n",
      "{'rouge-1': {'r': 0.2878787878787879, 'p': 0.5, 'f': 0.3653846107470415}, 'rouge-2': {'r': 0.15476190476190477, 'p': 0.3023255813953488, 'f': 0.20472440496993005}, 'rouge-l': {'r': 0.2727272727272727, 'p': 0.47368421052631576, 'f': 0.3461538415162722}}\n",
      "\n",
      "Abstractive new ROUGE Scores:\n",
      "{'rouge-1': {'r': 0.2878787878787879, 'p': 0.6785714285714286, 'f': 0.40425531496604805}, 'rouge-2': {'r': 0.16666666666666666, 'p': 0.4375, 'f': 0.24137930634958385}, 'rouge-l': {'r': 0.25757575757575757, 'p': 0.6071428571428571, 'f': 0.3617021234766863}}\n",
      "\n",
      "Extractive Summarization Time: 0.003022432327270508\n",
      "Abstractive Summarization Time: 11.348747730255127\n"
     ]
    }
   ],
   "source": [
    "# Perform extractive summarization\n",
    "extractive_summary = extractive_summarization(input_text)\n",
    "\n",
    "# Perform abstractive summarization\n",
    "abstractive_summary = abstractive_summarization(input_text)\n",
    "\n",
    "# Perform abstractive summarization using output of extractive summarization\n",
    "abstractive_summary_new = abstractive_summarization_from_extractive(extractive_summary)\n",
    "\n",
    "# Evaluate ROUGE scores\n",
    "extractive_rouge_scores = evaluate_rouge(extractive_summary, reference_summary)\n",
    "abstractive_rouge_scores = evaluate_rouge(abstractive_summary, reference_summary)\n",
    "abstractive_rouge_new_scores = evaluate_rouge(abstractive_summary_new, reference_summary)\n",
    "\n",
    "\n",
    "# Compare efficiency\n",
    "extractive_time, abstractive_time = compare_efficiency(input_text)\n",
    "\n",
    "# Print results\n",
    "print(\"Extractive Summary:\")\n",
    "print(extractive_summary)\n",
    "print(\"\\nAbstractive Summary:\")\n",
    "print(abstractive_summary)\n",
    "print(\"\\nAbstractive new Summary:\")\n",
    "print(abstractive_summary_new)\n",
    "print(\"\\nExtractive ROUGE Scores:\")\n",
    "print(extractive_rouge_scores)\n",
    "print(\"\\nAbstractive ROUGE Scores:\")\n",
    "print(abstractive_rouge_scores)\n",
    "print(\"\\nAbstractive new ROUGE Scores:\")\n",
    "print(abstractive_rouge_new_scores)\n",
    "print(\"\\nExtractive Summarization Time:\", extractive_time)\n",
    "print(\"Abstractive Summarization Time:\", abstractive_time)\n"
   ]
  }
 ],
 "metadata": {
  "kernelspec": {
   "display_name": "Python 3",
   "language": "python",
   "name": "python3"
  },
  "language_info": {
   "codemirror_mode": {
    "name": "ipython",
    "version": 3
   },
   "file_extension": ".py",
   "mimetype": "text/x-python",
   "name": "python",
   "nbconvert_exporter": "python",
   "pygments_lexer": "ipython3",
   "version": "3.11.1"
  }
 },
 "nbformat": 4,
 "nbformat_minor": 2
}
